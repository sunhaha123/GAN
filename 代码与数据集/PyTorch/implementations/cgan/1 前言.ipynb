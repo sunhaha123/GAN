{
 "cells": [
  {
   "cell_type": "markdown",
   "metadata": {},
   "source": [
    "# 条件生成式对抗网络《Conditional Generative Adversarial Nets》\n",
    "### 授课老师：李果\n",
    "\n",
    "# 1 前言\n",
    "## 1.1课程回顾\n",
    "\n",
    "<img src=\"figures/CGAN-上节回顾.svg\"  width=\"700\" height=\"700\" align=\"bottom\" />\n"
   ]
  },
  {
   "cell_type": "markdown",
   "metadata": {},
   "source": [
    "## 1.2 本课知识树\n",
    "![title](figures/CGAN代码.svg)"
   ]
  },
  {
   "cell_type": "markdown",
   "metadata": {},
   "source": [
    "## 1.3 模型结构\n",
    "<img src=\"figures/CGAN网络结构.png\"  width=\"700\" height=\"600\" align=\"bottom\" />"
   ]
  },
  {
   "cell_type": "markdown",
   "metadata": {},
   "source": [
    "# 2 准备工作\n",
    "## 2.1项目地址       \n",
    "https://github.com/eriklindernoren/PyTorch-GAN    \n",
    "\n",
    "git clone https://github.com/eriklindernoren/PyTorch-GAN.git     \n",
    "下载后运行代码会自动下载MNIST数据集\n",
    "     \n",
    "IDE推荐使用 **PyCharm** 进行开发"
   ]
  },
  {
   "cell_type": "markdown",
   "metadata": {},
   "source": [
    "## 2.2环境需求     \n",
    "torch>=0.4.0    \n",
    "torchvision    \n",
    "matplotlib   \n",
    "numpy   \n",
    "scipy   \n",
    "pillow  \n",
    "urllib3   \n",
    "scikit-image     "
   ]
  },
  {
   "cell_type": "markdown",
   "metadata": {},
   "source": [
    "在项目根目录下，可使用此命令自动安装依赖库：   \n",
    "**sudo pip3 install -r requirements.txt**      \n",
    "对于pytorch，可使用此命令从国内镜像进行快速安装：    \n",
    "**pip3 install torch torchvision -i  https://pypi.mirrors.ustc.edu.cn/simple**"
   ]
  },
  {
   "cell_type": "markdown",
   "metadata": {},
   "source": [
    "# 3 项目代码结构"
   ]
  },
  {
   "cell_type": "markdown",
   "metadata": {},
   "source": [
    "![title](figures/image1.png)"
   ]
  },
  {
   "cell_type": "markdown",
   "metadata": {},
   "source": [
    "**初始化**     \n",
    "parser，opt，img_shape, cuda,  LongTensor, FloatTensor\n",
    "     \n",
    "** 数据 **      \n",
    "dataloader\n",
    "     \n",
    "** 模型 **   \n",
    "generator, discriminator\n",
    "       \n",
    "** 优化 **       \n",
    "adversarial_loss，optimizer_G，optimizer_D\n"
   ]
  },
  {
   "cell_type": "markdown",
   "metadata": {},
   "source": [
    "# 4 代码试运行\n",
    "见pycharm"
   ]
  }
 ],
 "metadata": {
  "kernelspec": {
   "display_name": "Python 3",
   "language": "python",
   "name": "python3"
  },
  "language_info": {
   "codemirror_mode": {
    "name": "ipython",
    "version": 3
   },
   "file_extension": ".py",
   "mimetype": "text/x-python",
   "name": "python",
   "nbconvert_exporter": "python",
   "pygments_lexer": "ipython3",
   "version": "3.6.10"
  }
 },
 "nbformat": 4,
 "nbformat_minor": 2
}
