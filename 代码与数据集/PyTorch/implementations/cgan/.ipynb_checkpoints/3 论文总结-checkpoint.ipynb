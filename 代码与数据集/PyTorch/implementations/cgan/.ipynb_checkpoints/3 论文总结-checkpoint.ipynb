{
 "cells": [
  {
   "cell_type": "markdown",
   "metadata": {
    "collapsed": true
   },
   "source": [
    "# 论文总结"
   ]
  },
  {
   "cell_type": "markdown",
   "metadata": {
    "collapsed": true
   },
   "source": [
    "## 1 论文回顾    \n",
    "         \n",
    "** 01 研究背景 **    \n",
    "GAN，多模态学习，数据集   \n",
    "      \n",
    "** 02 模型总览与价值函数 **    \n",
    "加入条件输入 \n",
    "               \n",
    "** 03 实验结果与总结展望 **    \n",
    "单模态任务，多模态任务， 改进空间   \n",
    "           \n",
    "** 04 论文代码 **    \n",
    "在MNIST上训练条件手写数字生成模型        "
   ]
  },
  {
   "cell_type": "markdown",
   "metadata": {
    "collapsed": true
   },
   "source": [
    "## 2 推荐资料       \n",
    "      \n",
    "Skip-Gram模型理解    \n",
    "https://www.jianshu.com/p/da235893e4a5\n",
    "           \n",
    "多模态学习     \n",
    "https://www.cnblogs.com/CV-life/p/10152745.html  \n",
    "          \n",
    "图像描述（image caption）论文总结   \n",
    "https://blog.csdn.net/sinat_35177634/article/details/88102512  "
   ]
  },
  {
   "cell_type": "markdown",
   "metadata": {
    "collapsed": true
   },
   "source": [
    "## 3 课后作业\n",
    "\n",
    "**【思考题】**     \n",
    "本论文的多模态任务，是输入图像输出标签，如果要输入标签输出图像，网络该如何修改？   \n",
    "          \n",
    " \n",
    "**【代码实践】**     \n",
    "对提供的现有代码进行完善，加入模型保存、模型推断代码    \n",
    "        \n",
    "\n",
    "**【总结】**     \n",
    "了解在CGAN之后，GAN在多模态任务上还有哪些进展   \n",
    "           "
   ]
  },
  {
   "cell_type": "markdown",
   "metadata": {
    "collapsed": true
   },
   "source": [
    "![title](figures/幻灯片21.jpg)"
   ]
  }
 ],
 "metadata": {
  "kernelspec": {
   "display_name": "Python 3",
   "language": "python",
   "name": "python3"
  },
  "language_info": {
   "codemirror_mode": {
    "name": "ipython",
    "version": 3
   },
   "file_extension": ".py",
   "mimetype": "text/x-python",
   "name": "python",
   "nbconvert_exporter": "python",
   "pygments_lexer": "ipython3",
   "version": "3.6.10"
  }
 },
 "nbformat": 4,
 "nbformat_minor": 2
}
