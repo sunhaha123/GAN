{
 "cells": [
  {
   "cell_type": "markdown",
   "metadata": {
    "collapsed": true
   },
   "source": [
    "# 论文总结"
   ]
  },
  {
   "cell_type": "markdown",
   "metadata": {
    "collapsed": true
   },
   "source": [
    "## 1 论文回顾    \n",
    "         \n",
    "** 01 研究背景 **    \n",
    "判别式模型与生成式模型，minimax博弈，GAN的应用   \n",
    "      \n",
    "** 02 GAN理论与实验 **    \n",
    "价值函数的设计与trick，全局最优解和可收敛性证明，实验结果展示分析 \n",
    "               \n",
    "** 03 模型比较与未来展望 **    \n",
    "与其它生成式模型比较，讨论GAN的优缺点，展望未来改进方向    \n",
    "           \n",
    "** 04 论文代码 **    \n",
    "介绍GAN的代码实现        "
   ]
  },
  {
   "cell_type": "markdown",
   "metadata": {
    "collapsed": true
   },
   "source": [
    "## 2 推荐资料       \n",
    "      \n",
    "        \n",
    "GAN生成数据合集    \n",
    "https://thisxdoesnotexist.com/\n",
    "          \n",
    "GAN生成人脸合集    \n",
    "http://www.seeprettyface.com/ \n",
    "           \n",
    "李宏毅GAN教程     \n",
    "https://www.bilibili.com/video/av70297090/    \n",
    "    "
   ]
  },
  {
   "cell_type": "markdown",
   "metadata": {
    "collapsed": true
   },
   "source": [
    "## 3 课后作业\n",
    "\n",
    "**【思考题】**     \n",
    "虽然理论上GAN的全局最优解和可收敛性已经得到证明，但实践上还可能存在哪些问题，该如何解决？   \n",
    "          \n",
    " \n",
    "**【代码实践】**     \n",
    "对提供的现有代码进行完善，加入模型保存、模型推断代码    \n",
    "        \n",
    "\n",
    "**【总结】**     \n",
    "搜索了解其它生成式模型，如VAE、自回归模型等，自行总结GAN与其它生成式模型的异同   \n",
    "           "
   ]
  },
  {
   "cell_type": "markdown",
   "metadata": {
    "collapsed": true
   },
   "source": [
    "![title](figures/幻灯片20.jpg)"
   ]
  },
  {
   "cell_type": "markdown",
   "metadata": {
    "collapsed": true
   },
   "source": [
    "![title](figures/幻灯片21.jpg)"
   ]
  }
 ],
 "metadata": {
  "kernelspec": {
   "display_name": "Python 3",
   "language": "python",
   "name": "python3"
  },
  "language_info": {
   "codemirror_mode": {
    "name": "ipython",
    "version": 3
   },
   "file_extension": ".py",
   "mimetype": "text/x-python",
   "name": "python",
   "nbconvert_exporter": "python",
   "pygments_lexer": "ipython3",
   "version": "3.6.10"
  }
 },
 "nbformat": 4,
 "nbformat_minor": 2
}
